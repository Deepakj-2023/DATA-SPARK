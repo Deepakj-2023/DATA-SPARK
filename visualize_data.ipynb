{
 "cells": [
  {
   "cell_type": "code",
   "execution_count": 12,
   "id": "f4f3e03f-17b6-486d-a212-bb8414ce73cd",
   "metadata": {},
   "outputs": [],
   "source": [
    "import  pandas as pd"
   ]
  },
  {
   "cell_type": "code",
   "execution_count": 13,
   "id": "5a4ec5da-14ac-4eff-be4d-c4cba1bec469",
   "metadata": {},
   "outputs": [],
   "source": [
    "sales=pd.read_csv(\"Sales.csv\")\n",
    "customers=pd.read_csv(\"Customers .csv\", encoding='ISO-8859-1')\n",
    "exchangerates=pd.read_csv(\"Exchange_Rates.csv\")\n",
    "products=pd.read_csv(\"Products.csv\")\n",
    "stores=pd.read_csv(\"Stores.csv\")"
   ]
  },
  {
   "cell_type": "code",
   "execution_count": 14,
   "id": "6e2ab378-7386-4906-addf-502845b8fd71",
   "metadata": {},
   "outputs": [
    {
     "data": {
      "text/plain": [
       "Index(['Order Number', 'Line Item', 'Order Date', 'Delivery Date',\n",
       "       'CustomerKey', 'StoreKey', 'ProductKey', 'Quantity', 'Currency Code'],\n",
       "      dtype='object')"
      ]
     },
     "execution_count": 14,
     "metadata": {},
     "output_type": "execute_result"
    }
   ],
   "source": [
    "sales.columns"
   ]
  },
  {
   "cell_type": "code",
   "execution_count": 15,
   "id": "2cac7e66-65db-4d4f-a59a-58c39c798f87",
   "metadata": {},
   "outputs": [
    {
     "data": {
      "text/plain": [
       "Index(['CustomerKey', 'Gender', 'Name', 'City', 'State Code', 'State',\n",
       "       'Zip Code', 'Country', 'Continent', 'Birthday'],\n",
       "      dtype='object')"
      ]
     },
     "execution_count": 15,
     "metadata": {},
     "output_type": "execute_result"
    }
   ],
   "source": [
    "customers.columns"
   ]
  },
  {
   "cell_type": "code",
   "execution_count": 16,
   "id": "c55f8cff-554f-4d39-ac31-44f9af8cf790",
   "metadata": {},
   "outputs": [
    {
     "data": {
      "text/plain": [
       "Index(['Date', 'Currency', 'Exchange'], dtype='object')"
      ]
     },
     "execution_count": 16,
     "metadata": {},
     "output_type": "execute_result"
    }
   ],
   "source": [
    "exchangerates.columns"
   ]
  },
  {
   "cell_type": "code",
   "execution_count": 17,
   "id": "1c1d78af-223b-4d36-88ce-d228b9b7ba29",
   "metadata": {},
   "outputs": [
    {
     "data": {
      "text/plain": [
       "Index(['ProductKey', 'Product Name', 'Brand', 'Color', 'Unit Cost USD',\n",
       "       'Unit Price USD', 'SubcategoryKey', 'Subcategory', 'CategoryKey',\n",
       "       'Category'],\n",
       "      dtype='object')"
      ]
     },
     "execution_count": 17,
     "metadata": {},
     "output_type": "execute_result"
    }
   ],
   "source": [
    "products.columns"
   ]
  },
  {
   "cell_type": "code",
   "execution_count": 18,
   "id": "4a99f40a-a5d8-4e3d-8b52-73369a3c1381",
   "metadata": {},
   "outputs": [
    {
     "data": {
      "text/plain": [
       "Index(['StoreKey', 'Country', 'State', 'Square Meters', 'Open Date'], dtype='object')"
      ]
     },
     "execution_count": 18,
     "metadata": {},
     "output_type": "execute_result"
    }
   ],
   "source": [
    "stores.columns"
   ]
  },
  {
   "cell_type": "code",
   "execution_count": null,
   "id": "a822fad2-7171-43dc-bb11-985411e28025",
   "metadata": {},
   "outputs": [],
   "source": []
  },
  {
   "cell_type": "code",
   "execution_count": 22,
   "id": "c3d5c65b-4703-47c9-84cb-9f650aeea938",
   "metadata": {},
   "outputs": [
    {
     "data": {
      "text/html": [
       "<div>\n",
       "<style scoped>\n",
       "    .dataframe tbody tr th:only-of-type {\n",
       "        vertical-align: middle;\n",
       "    }\n",
       "\n",
       "    .dataframe tbody tr th {\n",
       "        vertical-align: top;\n",
       "    }\n",
       "\n",
       "    .dataframe thead th {\n",
       "        text-align: right;\n",
       "    }\n",
       "</style>\n",
       "<table border=\"1\" class=\"dataframe\">\n",
       "  <thead>\n",
       "    <tr style=\"text-align: right;\">\n",
       "      <th></th>\n",
       "      <th>Order Number</th>\n",
       "      <th>Line Item</th>\n",
       "      <th>Order Date</th>\n",
       "      <th>Delivery Date</th>\n",
       "      <th>CustomerKey</th>\n",
       "      <th>StoreKey</th>\n",
       "      <th>ProductKey</th>\n",
       "      <th>Quantity</th>\n",
       "      <th>Currency Code</th>\n",
       "      <th>Gender</th>\n",
       "      <th>Name</th>\n",
       "      <th>City</th>\n",
       "      <th>State Code</th>\n",
       "      <th>State</th>\n",
       "      <th>Zip Code</th>\n",
       "      <th>Country</th>\n",
       "      <th>Continent</th>\n",
       "      <th>Birthday</th>\n",
       "    </tr>\n",
       "  </thead>\n",
       "  <tbody>\n",
       "    <tr>\n",
       "      <th>0</th>\n",
       "      <td>366000</td>\n",
       "      <td>1</td>\n",
       "      <td>1/1/2016</td>\n",
       "      <td>NaN</td>\n",
       "      <td>265598</td>\n",
       "      <td>10</td>\n",
       "      <td>1304</td>\n",
       "      <td>1</td>\n",
       "      <td>CAD</td>\n",
       "      <td>Male</td>\n",
       "      <td>Tyler Vaught</td>\n",
       "      <td>London</td>\n",
       "      <td>ON</td>\n",
       "      <td>Ontario</td>\n",
       "      <td>N5W 5K6</td>\n",
       "      <td>Canada</td>\n",
       "      <td>North America</td>\n",
       "      <td>3/23/1971</td>\n",
       "    </tr>\n",
       "    <tr>\n",
       "      <th>1</th>\n",
       "      <td>366001</td>\n",
       "      <td>1</td>\n",
       "      <td>1/1/2016</td>\n",
       "      <td>1/13/2016</td>\n",
       "      <td>1269051</td>\n",
       "      <td>0</td>\n",
       "      <td>1048</td>\n",
       "      <td>2</td>\n",
       "      <td>USD</td>\n",
       "      <td>Male</td>\n",
       "      <td>Frank Upchurch</td>\n",
       "      <td>Auberry</td>\n",
       "      <td>CA</td>\n",
       "      <td>California</td>\n",
       "      <td>93602</td>\n",
       "      <td>United States</td>\n",
       "      <td>North America</td>\n",
       "      <td>11/20/1995</td>\n",
       "    </tr>\n",
       "    <tr>\n",
       "      <th>2</th>\n",
       "      <td>366001</td>\n",
       "      <td>2</td>\n",
       "      <td>1/1/2016</td>\n",
       "      <td>1/13/2016</td>\n",
       "      <td>1269051</td>\n",
       "      <td>0</td>\n",
       "      <td>2007</td>\n",
       "      <td>1</td>\n",
       "      <td>USD</td>\n",
       "      <td>Male</td>\n",
       "      <td>Frank Upchurch</td>\n",
       "      <td>Auberry</td>\n",
       "      <td>CA</td>\n",
       "      <td>California</td>\n",
       "      <td>93602</td>\n",
       "      <td>United States</td>\n",
       "      <td>North America</td>\n",
       "      <td>11/20/1995</td>\n",
       "    </tr>\n",
       "    <tr>\n",
       "      <th>3</th>\n",
       "      <td>366002</td>\n",
       "      <td>1</td>\n",
       "      <td>1/1/2016</td>\n",
       "      <td>1/12/2016</td>\n",
       "      <td>266019</td>\n",
       "      <td>0</td>\n",
       "      <td>1106</td>\n",
       "      <td>7</td>\n",
       "      <td>CAD</td>\n",
       "      <td>Female</td>\n",
       "      <td>Joan Roche</td>\n",
       "      <td>Red Deer</td>\n",
       "      <td>AB</td>\n",
       "      <td>Alberta</td>\n",
       "      <td>T4N 2A6</td>\n",
       "      <td>Canada</td>\n",
       "      <td>North America</td>\n",
       "      <td>8/24/1962</td>\n",
       "    </tr>\n",
       "    <tr>\n",
       "      <th>4</th>\n",
       "      <td>366002</td>\n",
       "      <td>2</td>\n",
       "      <td>1/1/2016</td>\n",
       "      <td>1/12/2016</td>\n",
       "      <td>266019</td>\n",
       "      <td>0</td>\n",
       "      <td>373</td>\n",
       "      <td>1</td>\n",
       "      <td>CAD</td>\n",
       "      <td>Female</td>\n",
       "      <td>Joan Roche</td>\n",
       "      <td>Red Deer</td>\n",
       "      <td>AB</td>\n",
       "      <td>Alberta</td>\n",
       "      <td>T4N 2A6</td>\n",
       "      <td>Canada</td>\n",
       "      <td>North America</td>\n",
       "      <td>8/24/1962</td>\n",
       "    </tr>\n",
       "  </tbody>\n",
       "</table>\n",
       "</div>"
      ],
      "text/plain": [
       "   Order Number  Line Item Order Date Delivery Date CustomerKey  StoreKey  \\\n",
       "0        366000          1   1/1/2016           NaN      265598        10   \n",
       "1        366001          1   1/1/2016     1/13/2016     1269051         0   \n",
       "2        366001          2   1/1/2016     1/13/2016     1269051         0   \n",
       "3        366002          1   1/1/2016     1/12/2016      266019         0   \n",
       "4        366002          2   1/1/2016     1/12/2016      266019         0   \n",
       "\n",
       "   ProductKey  Quantity Currency Code  Gender            Name      City  \\\n",
       "0        1304         1           CAD    Male    Tyler Vaught    London   \n",
       "1        1048         2           USD    Male  Frank Upchurch   Auberry   \n",
       "2        2007         1           USD    Male  Frank Upchurch   Auberry   \n",
       "3        1106         7           CAD  Female      Joan Roche  Red Deer   \n",
       "4         373         1           CAD  Female      Joan Roche  Red Deer   \n",
       "\n",
       "  State Code       State Zip Code        Country      Continent    Birthday  \n",
       "0         ON     Ontario  N5W 5K6         Canada  North America   3/23/1971  \n",
       "1         CA  California    93602  United States  North America  11/20/1995  \n",
       "2         CA  California    93602  United States  North America  11/20/1995  \n",
       "3         AB     Alberta  T4N 2A6         Canada  North America   8/24/1962  \n",
       "4         AB     Alberta  T4N 2A6         Canada  North America   8/24/1962  "
      ]
     },
     "execution_count": 22,
     "metadata": {},
     "output_type": "execute_result"
    }
   ],
   "source": [
    "merged_data .head()"
   ]
  },
  {
   "cell_type": "code",
   "execution_count": 26,
   "id": "c404776b-c4ee-4973-8c8f-fb23a8f6b9a1",
   "metadata": {},
   "outputs": [
    {
     "name": "stderr",
     "output_type": "stream",
     "text": [
      "C:\\Users\\Deepak\\AppData\\Local\\Temp\\ipykernel_25144\\1590300273.py:6: UserWarning: The argument 'infer_datetime_format' is deprecated and will be removed in a future version. A strict version of it is now the default, see https://pandas.pydata.org/pdeps/0004-consistent-to-datetime-parsing.html. You can safely remove this argument.\n",
      "  merged_data['Birthday'] = pd.to_datetime(merged_data['Birthday'], errors='coerce', infer_datetime_format=True)\n"
     ]
    },
    {
     "name": "stdout",
     "output_type": "stream",
     "text": [
      "   Order Number  Line Item Order Date Delivery Date CustomerKey  StoreKey  \\\n",
      "0        366000          1   1/1/2016           NaN      265598        10   \n",
      "1        366001          1   1/1/2016     1/13/2016     1269051         0   \n",
      "2        366001          2   1/1/2016     1/13/2016     1269051         0   \n",
      "3        366002          1   1/1/2016     1/12/2016      266019         0   \n",
      "4        366002          2   1/1/2016     1/12/2016      266019         0   \n",
      "\n",
      "   ProductKey  Quantity Currency Code  Gender            Name      City  \\\n",
      "0        1304         1           CAD    Male    Tyler Vaught    London   \n",
      "1        1048         2           USD    Male  Frank Upchurch   Auberry   \n",
      "2        2007         1           USD    Male  Frank Upchurch   Auberry   \n",
      "3        1106         7           CAD  Female      Joan Roche  Red Deer   \n",
      "4         373         1           CAD  Female      Joan Roche  Red Deer   \n",
      "\n",
      "  State Code       State Zip Code        Country      Continent   Birthday  \\\n",
      "0         ON     Ontario  N5W 5K6         Canada  North America 1971-03-23   \n",
      "1         CA  California    93602  United States  North America 1995-11-20   \n",
      "2         CA  California    93602  United States  North America 1995-11-20   \n",
      "3         AB     Alberta  T4N 2A6         Canada  North America 1962-08-24   \n",
      "4         AB     Alberta  T4N 2A6         Canada  North America 1962-08-24   \n",
      "\n",
      "    age  \n",
      "0  53.0  \n",
      "1  29.0  \n",
      "2  29.0  \n",
      "3  62.0  \n",
      "4  62.0  \n",
      "Merged dataset saved to 'merged_data.csv'\n"
     ]
    }
   ],
   "source": [
    "import pandas as pd\n",
    "\n",
    "# Assuming 'merged_data' is already created\n",
    "\n",
    "# Convert 'Birthday' column to datetime, handling different date formats\n",
    "merged_data['Birthday'] = pd.to_datetime(merged_data['Birthday'], errors='coerce', infer_datetime_format=True)\n",
    "\n",
    "# Calculate the customer's age based on the birthday column\n",
    "merged_data['age'] = (pd.to_datetime('today') - merged_data['Birthday']).dt.days // 365\n",
    "\n",
    "# Optionally, preview the merged dataset\n",
    "print(merged_data.head())\n",
    "\n",
    "# Save the merged dataset to a CSV file\n",
    "merged_data.to_csv('merged_data_x.csv', index=False)\n",
    "\n",
    "print(\"Merged dataset saved to 'merged_data.csv'\")\n"
   ]
  },
  {
   "cell_type": "code",
   "execution_count": 33,
   "id": "cfdf7043-69b4-4b50-a609-af82be6d2854",
   "metadata": {},
   "outputs": [
    {
     "data": {
      "text/html": [
       "<div>\n",
       "<style scoped>\n",
       "    .dataframe tbody tr th:only-of-type {\n",
       "        vertical-align: middle;\n",
       "    }\n",
       "\n",
       "    .dataframe tbody tr th {\n",
       "        vertical-align: top;\n",
       "    }\n",
       "\n",
       "    .dataframe thead th {\n",
       "        text-align: right;\n",
       "    }\n",
       "</style>\n",
       "<table border=\"1\" class=\"dataframe\">\n",
       "  <thead>\n",
       "    <tr style=\"text-align: right;\">\n",
       "      <th></th>\n",
       "      <th>Order Number</th>\n",
       "      <th>Line Item</th>\n",
       "      <th>Order Date</th>\n",
       "      <th>Delivery Date</th>\n",
       "      <th>CustomerKey</th>\n",
       "      <th>StoreKey</th>\n",
       "      <th>ProductKey</th>\n",
       "      <th>Quantity</th>\n",
       "      <th>Currency Code</th>\n",
       "      <th>Gender</th>\n",
       "      <th>Name</th>\n",
       "      <th>City</th>\n",
       "      <th>State Code</th>\n",
       "      <th>State</th>\n",
       "      <th>Zip Code</th>\n",
       "      <th>Country</th>\n",
       "      <th>Continent</th>\n",
       "      <th>Birthday</th>\n",
       "      <th>age</th>\n",
       "    </tr>\n",
       "  </thead>\n",
       "  <tbody>\n",
       "    <tr>\n",
       "      <th>0</th>\n",
       "      <td>366000</td>\n",
       "      <td>1</td>\n",
       "      <td>1/1/2016</td>\n",
       "      <td>NaN</td>\n",
       "      <td>265598</td>\n",
       "      <td>10</td>\n",
       "      <td>1304</td>\n",
       "      <td>1</td>\n",
       "      <td>CAD</td>\n",
       "      <td>Male</td>\n",
       "      <td>Tyler Vaught</td>\n",
       "      <td>London</td>\n",
       "      <td>ON</td>\n",
       "      <td>Ontario</td>\n",
       "      <td>N5W 5K6</td>\n",
       "      <td>Canada</td>\n",
       "      <td>North America</td>\n",
       "      <td>1971-03-23</td>\n",
       "      <td>53.0</td>\n",
       "    </tr>\n",
       "    <tr>\n",
       "      <th>1</th>\n",
       "      <td>366001</td>\n",
       "      <td>1</td>\n",
       "      <td>1/1/2016</td>\n",
       "      <td>1/13/2016</td>\n",
       "      <td>1269051</td>\n",
       "      <td>0</td>\n",
       "      <td>1048</td>\n",
       "      <td>2</td>\n",
       "      <td>USD</td>\n",
       "      <td>Male</td>\n",
       "      <td>Frank Upchurch</td>\n",
       "      <td>Auberry</td>\n",
       "      <td>CA</td>\n",
       "      <td>California</td>\n",
       "      <td>93602</td>\n",
       "      <td>United States</td>\n",
       "      <td>North America</td>\n",
       "      <td>1995-11-20</td>\n",
       "      <td>29.0</td>\n",
       "    </tr>\n",
       "    <tr>\n",
       "      <th>2</th>\n",
       "      <td>366001</td>\n",
       "      <td>2</td>\n",
       "      <td>1/1/2016</td>\n",
       "      <td>1/13/2016</td>\n",
       "      <td>1269051</td>\n",
       "      <td>0</td>\n",
       "      <td>2007</td>\n",
       "      <td>1</td>\n",
       "      <td>USD</td>\n",
       "      <td>Male</td>\n",
       "      <td>Frank Upchurch</td>\n",
       "      <td>Auberry</td>\n",
       "      <td>CA</td>\n",
       "      <td>California</td>\n",
       "      <td>93602</td>\n",
       "      <td>United States</td>\n",
       "      <td>North America</td>\n",
       "      <td>1995-11-20</td>\n",
       "      <td>29.0</td>\n",
       "    </tr>\n",
       "    <tr>\n",
       "      <th>3</th>\n",
       "      <td>366002</td>\n",
       "      <td>1</td>\n",
       "      <td>1/1/2016</td>\n",
       "      <td>1/12/2016</td>\n",
       "      <td>266019</td>\n",
       "      <td>0</td>\n",
       "      <td>1106</td>\n",
       "      <td>7</td>\n",
       "      <td>CAD</td>\n",
       "      <td>Female</td>\n",
       "      <td>Joan Roche</td>\n",
       "      <td>Red Deer</td>\n",
       "      <td>AB</td>\n",
       "      <td>Alberta</td>\n",
       "      <td>T4N 2A6</td>\n",
       "      <td>Canada</td>\n",
       "      <td>North America</td>\n",
       "      <td>1962-08-24</td>\n",
       "      <td>62.0</td>\n",
       "    </tr>\n",
       "    <tr>\n",
       "      <th>4</th>\n",
       "      <td>366002</td>\n",
       "      <td>2</td>\n",
       "      <td>1/1/2016</td>\n",
       "      <td>1/12/2016</td>\n",
       "      <td>266019</td>\n",
       "      <td>0</td>\n",
       "      <td>373</td>\n",
       "      <td>1</td>\n",
       "      <td>CAD</td>\n",
       "      <td>Female</td>\n",
       "      <td>Joan Roche</td>\n",
       "      <td>Red Deer</td>\n",
       "      <td>AB</td>\n",
       "      <td>Alberta</td>\n",
       "      <td>T4N 2A6</td>\n",
       "      <td>Canada</td>\n",
       "      <td>North America</td>\n",
       "      <td>1962-08-24</td>\n",
       "      <td>62.0</td>\n",
       "    </tr>\n",
       "  </tbody>\n",
       "</table>\n",
       "</div>"
      ],
      "text/plain": [
       "   Order Number  Line Item Order Date Delivery Date CustomerKey  StoreKey  \\\n",
       "0        366000          1   1/1/2016           NaN      265598        10   \n",
       "1        366001          1   1/1/2016     1/13/2016     1269051         0   \n",
       "2        366001          2   1/1/2016     1/13/2016     1269051         0   \n",
       "3        366002          1   1/1/2016     1/12/2016      266019         0   \n",
       "4        366002          2   1/1/2016     1/12/2016      266019         0   \n",
       "\n",
       "   ProductKey  Quantity Currency Code  Gender            Name      City  \\\n",
       "0        1304         1           CAD    Male    Tyler Vaught    London   \n",
       "1        1048         2           USD    Male  Frank Upchurch   Auberry   \n",
       "2        2007         1           USD    Male  Frank Upchurch   Auberry   \n",
       "3        1106         7           CAD  Female      Joan Roche  Red Deer   \n",
       "4         373         1           CAD  Female      Joan Roche  Red Deer   \n",
       "\n",
       "  State Code       State Zip Code        Country      Continent   Birthday  \\\n",
       "0         ON     Ontario  N5W 5K6         Canada  North America 1971-03-23   \n",
       "1         CA  California    93602  United States  North America 1995-11-20   \n",
       "2         CA  California    93602  United States  North America 1995-11-20   \n",
       "3         AB     Alberta  T4N 2A6         Canada  North America 1962-08-24   \n",
       "4         AB     Alberta  T4N 2A6         Canada  North America 1962-08-24   \n",
       "\n",
       "    age  \n",
       "0  53.0  \n",
       "1  29.0  \n",
       "2  29.0  \n",
       "3  62.0  \n",
       "4  62.0  "
      ]
     },
     "execution_count": 33,
     "metadata": {},
     "output_type": "execute_result"
    }
   ],
   "source": [
    "merged_data.head()"
   ]
  },
  {
   "cell_type": "code",
   "execution_count": 30,
   "id": "98b316f6-5092-49a8-ac40-37bb81ceb081",
   "metadata": {},
   "outputs": [
    {
     "data": {
      "text/plain": [
       "Index(['Order Number', 'Line Item', 'Order Date', 'Delivery Date',\n",
       "       'CustomerKey', 'StoreKey', 'ProductKey', 'Quantity', 'Currency Code'],\n",
       "      dtype='object')"
      ]
     },
     "execution_count": 30,
     "metadata": {},
     "output_type": "execute_result"
    }
   ],
   "source": [
    "sales.columns"
   ]
  },
  {
   "cell_type": "code",
   "execution_count": null,
   "id": "b2399acc-146b-48fa-9398-60612969b896",
   "metadata": {},
   "outputs": [],
   "source": []
  },
  {
   "cell_type": "code",
   "execution_count": null,
   "id": "4f136425-1163-4feb-828e-031894dcbb73",
   "metadata": {},
   "outputs": [],
   "source": []
  }
 ],
 "metadata": {
  "kernelspec": {
   "display_name": "Python 3 (ipykernel)",
   "language": "python",
   "name": "python3"
  },
  "language_info": {
   "codemirror_mode": {
    "name": "ipython",
    "version": 3
   },
   "file_extension": ".py",
   "mimetype": "text/x-python",
   "name": "python",
   "nbconvert_exporter": "python",
   "pygments_lexer": "ipython3",
   "version": "3.11.7"
  }
 },
 "nbformat": 4,
 "nbformat_minor": 5
}
